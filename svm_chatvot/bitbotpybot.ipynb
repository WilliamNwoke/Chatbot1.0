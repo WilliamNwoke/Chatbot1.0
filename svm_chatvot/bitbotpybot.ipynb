{
 "cells": [
  {
   "cell_type": "markdown",
   "metadata": {},
   "source": [
    "### For the purpose of learning how to build, I decided to start with the simplest method of build chatbots (i think)"
   ]
  },
  {
   "cell_type": "code",
   "execution_count": 9,
   "metadata": {
    "collapsed": true
   },
   "outputs": [],
   "source": [
    "import en_core_web_sm # Large SpaCy model for English language\n",
    "import numpy as np # numpy\n",
    "import re # Regular expression\n",
    "import spacy # NLU - Natural Language understanding.\n",
    "from collections import defaultdict\n",
    "from sklearn.svm import SVC # support vector classification model"
   ]
  },
  {
   "cell_type": "code",
   "execution_count": 18,
   "metadata": {
    "collapsed": true
   },
   "outputs": [],
   "source": [
    "output_format = \"IN:  {input}\\nOUT: {output}\\n\" + \"_\"*50"
   ]
  },
  {
   "cell_type": "code",
   "execution_count": 19,
   "metadata": {
    "collapsed": true
   },
   "outputs": [],
   "source": [
    "# coded exact questions \n",
    "responses_exact = {\n",
    "    \"what would you like to eat tonight?\": \"Pasta with salmon and red pesto please!\",\n",
    "    \"what time will you be home tonight?\": \"I will be home around 6 pm.\",\n",
    "    \"default\": \"I love you too!\"\n",
    "}\n",
    "\n",
    "def respond_exact(text):\n",
    "    response = responses_exact.get(text.lower(), responses_exact['default'])\n",
    "    return(output_format.format(input=text, output=response))"
   ]
  },
  {
   "cell_type": "code",
   "execution_count": 20,
   "metadata": {
    "collapsed": false
   },
   "outputs": [
    {
     "name": "stdout",
     "output_type": "stream",
     "text": [
      "IN:  What would you like to eat tonight?\n",
      "OUT: Pasta with salmon and red pesto please!\n",
      "__________________________________________________\n",
      "__________________________________________________\n",
      "IN:  What time will you be home tonight?\n",
      "OUT: I will be home around 6 pm.\n",
      "__________________________________________________\n",
      "__________________________________________________\n",
      "IN:  I just found out my ex ran away.\n",
      "OUT: I love you too!\n",
      "__________________________________________________\n"
     ]
    }
   ],
   "source": [
    "print(respond_exact(\"What would you like to eat tonight?\"))\n",
    "print(\"_\"*50)\n",
    "print(respond_exact(\"What time will you be home tonight?\"))\n",
    "print(\"_\"*50)\n",
    "print(respond_exact(\"I just found out my ex ran away.\"))"
   ]
  },
  {
   "cell_type": "code",
   "execution_count": null,
   "metadata": {
    "collapsed": true
   },
   "outputs": [],
   "source": []
  }
 ],
 "metadata": {
  "kernelspec": {
   "display_name": "Python 3",
   "language": "python",
   "name": "python3"
  },
  "language_info": {
   "codemirror_mode": {
    "name": "ipython",
    "version": 3
   },
   "file_extension": ".py",
   "mimetype": "text/x-python",
   "name": "python",
   "nbconvert_exporter": "python",
   "pygments_lexer": "ipython3",
   "version": "3.5.2"
  }
 },
 "nbformat": 4,
 "nbformat_minor": 2
}
